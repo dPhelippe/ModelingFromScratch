{
 "cells": [
  {
   "cell_type": "code",
   "execution_count": 1,
   "id": "6182cfdb",
   "metadata": {
    "_cell_guid": "b1076dfc-b9ad-4769-8c92-a6c4dae69d19",
    "_uuid": "8f2839f25d086af736a60e9eeb907d3b93b6e0e5",
    "execution": {
     "iopub.execute_input": "2022-04-21T16:33:56.286980Z",
     "iopub.status.busy": "2022-04-21T16:33:56.285812Z",
     "iopub.status.idle": "2022-04-21T16:33:57.253445Z",
     "shell.execute_reply": "2022-04-21T16:33:57.252507Z",
     "shell.execute_reply.started": "2022-04-21T14:48:31.942707Z"
    },
    "papermill": {
     "duration": 0.994123,
     "end_time": "2022-04-21T16:33:57.253618",
     "exception": false,
     "start_time": "2022-04-21T16:33:56.259495",
     "status": "completed"
    },
    "tags": []
   },
   "outputs": [],
   "source": [
    "import numpy as np \n",
    "import pandas as pd \n",
    "import matplotlib as plt\n",
    "import seaborn as sns\n",
    "\n",
    "sns.set_theme()\n"
   ]
  },
  {
   "cell_type": "code",
   "execution_count": 2,
   "id": "bdaf501b",
   "metadata": {
    "execution": {
     "iopub.execute_input": "2022-04-21T16:33:57.306787Z",
     "iopub.status.busy": "2022-04-21T16:33:57.306036Z",
     "iopub.status.idle": "2022-04-21T16:33:57.340883Z",
     "shell.execute_reply": "2022-04-21T16:33:57.339993Z",
     "shell.execute_reply.started": "2022-04-21T14:48:32.121393Z"
    },
    "papermill": {
     "duration": 0.06249,
     "end_time": "2022-04-21T16:33:57.341085",
     "exception": false,
     "start_time": "2022-04-21T16:33:57.278595",
     "status": "completed"
    },
    "tags": []
   },
   "outputs": [
    {
     "name": "stdout",
     "output_type": "stream",
     "text": [
      "<class 'pandas.core.frame.DataFrame'>\n",
      "RangeIndex: 918 entries, 0 to 917\n",
      "Data columns (total 12 columns):\n",
      " #   Column          Non-Null Count  Dtype  \n",
      "---  ------          --------------  -----  \n",
      " 0   Age             918 non-null    int64  \n",
      " 1   Sex             918 non-null    object \n",
      " 2   ChestPainType   918 non-null    object \n",
      " 3   RestingBP       918 non-null    int64  \n",
      " 4   Cholesterol     918 non-null    int64  \n",
      " 5   FastingBS       918 non-null    int64  \n",
      " 6   RestingECG      918 non-null    object \n",
      " 7   MaxHR           918 non-null    int64  \n",
      " 8   ExerciseAngina  918 non-null    object \n",
      " 9   Oldpeak         918 non-null    float64\n",
      " 10  ST_Slope        918 non-null    object \n",
      " 11  HeartDisease    918 non-null    int64  \n",
      "dtypes: float64(1), int64(6), object(5)\n",
      "memory usage: 86.2+ KB\n"
     ]
    }
   ],
   "source": [
    "heart = pd.read_csv(\"heart.csv\")\n",
    "heart.info()"
   ]
  },
  {
   "cell_type": "markdown",
   "id": "611e89d1",
   "metadata": {
    "papermill": {
     "duration": 0.02232,
     "end_time": "2022-04-21T16:33:57.386867",
     "exception": false,
     "start_time": "2022-04-21T16:33:57.364547",
     "status": "completed"
    },
    "tags": []
   },
   "source": [
    "# Data Cleanup"
   ]
  },
  {
   "cell_type": "code",
   "execution_count": 3,
   "id": "03cf536c",
   "metadata": {
    "execution": {
     "iopub.execute_input": "2022-04-21T16:33:57.445646Z",
     "iopub.status.busy": "2022-04-21T16:33:57.444609Z",
     "iopub.status.idle": "2022-04-21T16:33:57.923499Z",
     "shell.execute_reply": "2022-04-21T16:33:57.922962Z",
     "shell.execute_reply.started": "2022-04-21T14:48:32.424006Z"
    },
    "papermill": {
     "duration": 0.514056,
     "end_time": "2022-04-21T16:33:57.923644",
     "exception": false,
     "start_time": "2022-04-21T16:33:57.409588",
     "status": "completed"
    },
    "tags": []
   },
   "outputs": [
    {
     "data": {
      "text/plain": [
       "<seaborn.axisgrid.FacetGrid at 0x239c8465a60>"
      ]
     },
     "execution_count": 3,
     "metadata": {},
     "output_type": "execute_result"
    },
    {
     "data": {
      "image/png": "[encoded data removed]",
      "text/plain": [
       "<Figure size 360x360 with 1 Axes>"
      ]
     },
     "metadata": {},
     "output_type": "display_data"
    }
   ],
   "source": [
    "sns.displot(data=heart,x=\"Age\")"
   ]
  },
  {
   "cell_type": "code",
   "execution_count": 4,
   "id": "e45adeee",
   "metadata": {
    "execution": {
     "iopub.execute_input": "2022-04-21T16:33:57.975278Z",
     "iopub.status.busy": "2022-04-21T16:33:57.974614Z",
     "iopub.status.idle": "2022-04-21T16:33:58.295569Z",
     "shell.execute_reply": "2022-04-21T16:33:58.296012Z",
     "shell.execute_reply.started": "2022-04-21T14:48:32.953055Z"
    },
    "papermill": {
     "duration": 0.3488,
     "end_time": "2022-04-21T16:33:58.296182",
     "exception": false,
     "start_time": "2022-04-21T16:33:57.947382",
     "status": "completed"
    },
    "tags": []
   },
   "outputs": [
    {
     "data": {
      "text/plain": [
       "<seaborn.axisgrid.FacetGrid at 0x239cd53df40>"
      ]
     },
     "execution_count": 4,
     "metadata": {},
     "output_type": "execute_result"
    },
    {
     "data": {
      "image/png": "[encoded data removed]",
      "text/plain": [
       "<Figure size 360x360 with 1 Axes>"
      ]
     },
     "metadata": {},
     "output_type": "display_data"
    }
   ],
   "source": [
    "sns.displot(data=heart,x=\"Sex\")"
   ]
  },
  {
   "cell_type": "code",
   "execution_count": 5,
   "id": "d03cd731",
   "metadata": {
    "execution": {
     "iopub.execute_input": "2022-04-21T16:33:58.368005Z",
     "iopub.status.busy": "2022-04-21T16:33:58.351826Z",
     "iopub.status.idle": "2022-04-21T16:33:58.857069Z",
     "shell.execute_reply": "2022-04-21T16:33:58.856547Z",
     "shell.execute_reply.started": "2022-04-21T14:48:33.297129Z"
    },
    "papermill": {
     "duration": 0.535901,
     "end_time": "2022-04-21T16:33:58.857238",
     "exception": false,
     "start_time": "2022-04-21T16:33:58.321337",
     "status": "completed"
    },
    "tags": []
   },
   "outputs": [
    {
     "data": {
      "text/plain": [
       "<seaborn.axisgrid.FacetGrid at 0x239cdc80a30>"
      ]
     },
     "execution_count": 5,
     "metadata": {},
     "output_type": "execute_result"
    },
    {
     "data": {
      "image/png": "[encoded data removed]",
      "text/plain": [
       "<Figure size 360x360 with 1 Axes>"
      ]
     },
     "metadata": {},
     "output_type": "display_data"
    }
   ],
   "source": [
    "sns.displot(data=heart,x=\"Cholesterol\")"
   ]
  },
  {
   "cell_type": "markdown",
   "id": "802c007b",
   "metadata": {
    "papermill": {
     "duration": 0.025335,
     "end_time": "2022-04-21T16:33:58.908449",
     "exception": false,
     "start_time": "2022-04-21T16:33:58.883114",
     "status": "completed"
    },
    "tags": []
   },
   "source": [
    "Cholesterol Data should not have a 0 value. First, we will attempt to solve this by replacing with the mean"
   ]
  },
  {
   "cell_type": "code",
   "execution_count": 6,
   "id": "4e8bc1e7",
   "metadata": {
    "execution": {
     "iopub.execute_input": "2022-04-21T16:33:58.964822Z",
     "iopub.status.busy": "2022-04-21T16:33:58.963835Z",
     "iopub.status.idle": "2022-04-21T16:33:58.970053Z",
     "shell.execute_reply": "2022-04-21T16:33:58.970528Z",
     "shell.execute_reply.started": "2022-04-21T14:48:33.758859Z"
    },
    "papermill": {
     "duration": 0.035433,
     "end_time": "2022-04-21T16:33:58.970712",
     "exception": false,
     "start_time": "2022-04-21T16:33:58.935279",
     "status": "completed"
    },
    "tags": []
   },
   "outputs": [],
   "source": [
    "avgChol = heart[heart[\"Cholesterol\"] != 0][\"Cholesterol\"].mean()\n",
    "heart[\"Cholesterol\"] = heart[\"Cholesterol\"].replace(to_replace=0,value=avgChol)"
   ]
  },
  {
   "cell_type": "code",
   "execution_count": 7,
   "id": "bb7a16ff",
   "metadata": {
    "execution": {
     "iopub.execute_input": "2022-04-21T16:33:59.029888Z",
     "iopub.status.busy": "2022-04-21T16:33:59.028863Z",
     "iopub.status.idle": "2022-04-21T16:33:59.560933Z",
     "shell.execute_reply": "2022-04-21T16:33:59.561439Z",
     "shell.execute_reply.started": "2022-04-21T14:48:33.768460Z"
    },
    "papermill": {
     "duration": 0.564672,
     "end_time": "2022-04-21T16:33:59.561608",
     "exception": false,
     "start_time": "2022-04-21T16:33:58.996936",
     "status": "completed"
    },
    "tags": []
   },
   "outputs": [
    {
     "data": {
      "text/plain": [
       "<seaborn.axisgrid.FacetGrid at 0x239cdd73580>"
      ]
     },
     "execution_count": 7,
     "metadata": {},
     "output_type": "execute_result"
    },
    {
     "data": {
      "image/png": "[encoded data removed]",
      "text/plain": [
       "<Figure size 360x360 with 1 Axes>"
      ]
     },
     "metadata": {},
     "output_type": "display_data"
    }
   ],
   "source": [
    "sns.displot(data=heart,x=\"Cholesterol\",kde=True)"
   ]
  },
  {
   "cell_type": "markdown",
   "id": "337ee8f8",
   "metadata": {
    "papermill": {
     "duration": 0.026473,
     "end_time": "2022-04-21T16:33:59.614946",
     "exception": false,
     "start_time": "2022-04-21T16:33:59.588473",
     "status": "completed"
    },
    "tags": []
   },
   "source": [
    "Proportion of records with 0 cholesterol is too great and has a drastic effect on the distribution. This feature will be left out of the model"
   ]
  },
  {
   "cell_type": "code",
   "execution_count": 8,
   "id": "7db1de92",
   "metadata": {
    "execution": {
     "iopub.execute_input": "2022-04-21T16:33:59.672446Z",
     "iopub.status.busy": "2022-04-21T16:33:59.671429Z",
     "iopub.status.idle": "2022-04-21T16:33:59.676594Z",
     "shell.execute_reply": "2022-04-21T16:33:59.677039Z",
     "shell.execute_reply.started": "2022-04-21T14:48:34.331052Z"
    },
    "papermill": {
     "duration": 0.035477,
     "end_time": "2022-04-21T16:33:59.677230",
     "exception": false,
     "start_time": "2022-04-21T16:33:59.641753",
     "status": "completed"
    },
    "tags": []
   },
   "outputs": [],
   "source": [
    "# there is a records with a restingBP of 0. I replaced it with the average RestingBP\n",
    "heart[\"RestingBP\"] = heart[\"RestingBP\"].replace(0,heart[\"RestingBP\"].mean())"
   ]
  },
  {
   "cell_type": "markdown",
   "id": "ebfeeeec",
   "metadata": {
    "papermill": {
     "duration": 0.026653,
     "end_time": "2022-04-21T16:33:59.730617",
     "exception": false,
     "start_time": "2022-04-21T16:33:59.703964",
     "status": "completed"
    },
    "tags": []
   },
   "source": [
    "# Exploratory Data Analysis on the Data Set\n",
    "Theories include:\n",
    "- age is a significant risk factor\n",
    "- those with heart pain will likely have heart disease\n",
    "- higher cholesterol leads to higher heart disease"
   ]
  },
  {
   "cell_type": "code",
   "execution_count": 9,
   "id": "4fe073df",
   "metadata": {
    "execution": {
     "iopub.execute_input": "2022-04-21T16:33:59.787928Z",
     "iopub.status.busy": "2022-04-21T16:33:59.787222Z",
     "iopub.status.idle": "2022-04-21T16:33:59.995980Z",
     "shell.execute_reply": "2022-04-21T16:33:59.995419Z",
     "shell.execute_reply.started": "2022-04-21T14:48:34.338347Z"
    },
    "papermill": {
     "duration": 0.238596,
     "end_time": "2022-04-21T16:33:59.996120",
     "exception": false,
     "start_time": "2022-04-21T16:33:59.757524",
     "status": "completed"
    },
    "tags": []
   },
   "outputs": [
    {
     "data": {
      "text/plain": [
       "[Text(0, 0, 'no'), Text(1, 0, 'yes')]"
      ]
     },
     "execution_count": 9,
     "metadata": {},
     "output_type": "execute_result"
    },
    {
     "data": {
      "image/png": "[encoded data removed]",
      "text/plain": [
       "<Figure size 432x288 with 1 Axes>"
      ]
     },
     "metadata": {},
     "output_type": "display_data"
    }
   ],
   "source": [
    "sns.boxplot(x=\"HeartDisease\",y=\"Age\",data=heart).set_xticklabels([\"no\",\"yes\"])"
   ]
  },
  {
   "cell_type": "code",
   "execution_count": 10,
   "id": "66246926",
   "metadata": {
    "execution": {
     "iopub.execute_input": "2022-04-21T16:34:00.057668Z",
     "iopub.status.busy": "2022-04-21T16:34:00.057034Z",
     "iopub.status.idle": "2022-04-21T16:34:00.630746Z",
     "shell.execute_reply": "2022-04-21T16:34:00.630152Z",
     "shell.execute_reply.started": "2022-04-21T14:48:34.563670Z"
    },
    "papermill": {
     "duration": 0.605285,
     "end_time": "2022-04-21T16:34:00.630899",
     "exception": false,
     "start_time": "2022-04-21T16:34:00.025614",
     "status": "completed"
    },
    "tags": []
   },
   "outputs": [
    {
     "data": {
      "text/plain": [
       "<seaborn.axisgrid.FacetGrid at 0x239cd4ebfd0>"
      ]
     },
     "execution_count": 10,
     "metadata": {},
     "output_type": "execute_result"
    },
    {
     "data": {
      "image/png": "[encoded data removed]",
      "text/plain": [
       "<Figure size 720x360 with 2 Axes>"
      ]
     },
     "metadata": {},
     "output_type": "display_data"
    }
   ],
   "source": [
    "sns.displot(data=heart,x=\"ChestPainType\",col=\"HeartDisease\")"
   ]
  },
  {
   "cell_type": "markdown",
   "id": "8f4bb5a0",
   "metadata": {
    "papermill": {
     "duration": 0.029049,
     "end_time": "2022-04-21T16:34:00.689806",
     "exception": false,
     "start_time": "2022-04-21T16:34:00.660757",
     "status": "completed"
    },
    "tags": []
   },
   "source": [
    "Majority of cases with patients with heart disease were asymtpomatic. Potential cause could be that they weren't diagnosed early enough to take care of it"
   ]
  },
  {
   "cell_type": "code",
   "execution_count": 11,
   "id": "bfb077dc",
   "metadata": {
    "execution": {
     "iopub.execute_input": "2022-04-21T16:34:00.760410Z",
     "iopub.status.busy": "2022-04-21T16:34:00.759279Z",
     "iopub.status.idle": "2022-04-21T16:34:01.702495Z",
     "shell.execute_reply": "2022-04-21T16:34:01.702994Z",
     "shell.execute_reply.started": "2022-04-21T14:48:35.170171Z"
    },
    "papermill": {
     "duration": 0.983937,
     "end_time": "2022-04-21T16:34:01.703162",
     "exception": false,
     "start_time": "2022-04-21T16:34:00.719225",
     "status": "completed"
    },
    "tags": []
   },
   "outputs": [
    {
     "data": {
      "text/plain": [
       "<seaborn.axisgrid.FacetGrid at 0x239ce047070>"
      ]
     },
     "execution_count": 11,
     "metadata": {},
     "output_type": "execute_result"
    },
    {
     "data": {
      "image/png": "[encoded data removed]",
      "text/plain": [
       "<Figure size 720x360 with 2 Axes>"
      ]
     },
     "metadata": {},
     "output_type": "display_data"
    }
   ],
   "source": [
    "sns.displot(data=heart,x=\"Cholesterol\",col=\"HeartDisease\",kde=True)"
   ]
  },
  {
   "cell_type": "markdown",
   "id": "62176331",
   "metadata": {
    "papermill": {
     "duration": 0.030329,
     "end_time": "2022-04-21T16:34:01.764488",
     "exception": false,
     "start_time": "2022-04-21T16:34:01.734159",
     "status": "completed"
    },
    "tags": []
   },
   "source": [
    "Distribution of age for those with heart disease has a left skew, adding support to the argument taht those with heart disease have a higher age"
   ]
  },
  {
   "cell_type": "code",
   "execution_count": 12,
   "id": "d6f95130",
   "metadata": {
    "execution": {
     "iopub.execute_input": "2022-04-21T16:34:01.834322Z",
     "iopub.status.busy": "2022-04-21T16:34:01.833620Z",
     "iopub.status.idle": "2022-04-21T16:34:02.809900Z",
     "shell.execute_reply": "2022-04-21T16:34:02.809247Z",
     "shell.execute_reply.started": "2022-04-21T14:48:36.299971Z"
    },
    "papermill": {
     "duration": 1.014208,
     "end_time": "2022-04-21T16:34:02.810046",
     "exception": false,
     "start_time": "2022-04-21T16:34:01.795838",
     "status": "completed"
    },
    "tags": []
   },
   "outputs": [
    {
     "data": {
      "text/plain": [
       "<seaborn.axisgrid.FacetGrid at 0x239ce129b80>"
      ]
     },
     "execution_count": 12,
     "metadata": {},
     "output_type": "execute_result"
    },
    {
     "data": {
      "image/png": "[encoded data removed]",
      "text/plain": [
       "<Figure size 720x360 with 2 Axes>"
      ]
     },
     "metadata": {},
     "output_type": "display_data"
    }
   ],
   "source": [
    "sns.displot(data=heart,x=\"MaxHR\",col=\"HeartDisease\",kde=True)"
   ]
  },
  {
   "cell_type": "markdown",
   "id": "6f99c508",
   "metadata": {
    "execution": {
     "iopub.execute_input": "2022-01-04T20:27:03.555482Z",
     "iopub.status.busy": "2022-01-04T20:27:03.555195Z",
     "iopub.status.idle": "2022-01-04T20:27:03.560453Z",
     "shell.execute_reply": "2022-01-04T20:27:03.559668Z",
     "shell.execute_reply.started": "2022-01-04T20:27:03.555451Z"
    },
    "papermill": {
     "duration": 0.031838,
     "end_time": "2022-04-21T16:34:02.874733",
     "exception": false,
     "start_time": "2022-04-21T16:34:02.842895",
     "status": "completed"
    },
    "tags": []
   },
   "source": [
    "Those with a heart disease have a lower heart rate on average as well"
   ]
  },
  {
   "cell_type": "code",
   "execution_count": 13,
   "id": "7eedeabc",
   "metadata": {
    "execution": {
     "iopub.execute_input": "2022-04-21T16:34:02.965640Z",
     "iopub.status.busy": "2022-04-21T16:34:02.944900Z",
     "iopub.status.idle": "2022-04-21T16:34:03.440283Z",
     "shell.execute_reply": "2022-04-21T16:34:03.440777Z",
     "shell.execute_reply.started": "2022-04-21T14:48:37.221101Z"
    },
    "papermill": {
     "duration": 0.533678,
     "end_time": "2022-04-21T16:34:03.440951",
     "exception": false,
     "start_time": "2022-04-21T16:34:02.907273",
     "status": "completed"
    },
    "tags": []
   },
   "outputs": [
    {
     "data": {
      "text/plain": [
       "M    725\n",
       "F    193\n",
       "Name: Sex, dtype: int64"
      ]
     },
     "execution_count": 13,
     "metadata": {},
     "output_type": "execute_result"
    },
    {
     "data": {
      "image/png": "[encoded data removed]",
      "text/plain": [
       "<Figure size 720x360 with 2 Axes>"
      ]
     },
     "metadata": {},
     "output_type": "display_data"
    }
   ],
   "source": [
    "sns.displot(data=heart,x=\"Sex\",col=\"HeartDisease\")\n",
    "heart[\"Sex\"].value_counts()"
   ]
  },
  {
   "cell_type": "markdown",
   "id": "d9749c64",
   "metadata": {
    "papermill": {
     "duration": 0.032891,
     "end_time": "2022-04-21T16:34:03.506881",
     "exception": false,
     "start_time": "2022-04-21T16:34:03.473990",
     "status": "completed"
    },
    "tags": []
   },
   "source": [
    "Those with Heart disease are much more likely to be men (90%), but the study was also mostly made of men (73%) leading to potential bias in the data"
   ]
  },
  {
   "cell_type": "markdown",
   "id": "7b9203de",
   "metadata": {
    "papermill": {
     "duration": 0.032757,
     "end_time": "2022-04-21T16:34:03.573032",
     "exception": false,
     "start_time": "2022-04-21T16:34:03.540275",
     "status": "completed"
    },
    "tags": []
   },
   "source": [
    "# Preprocessing"
   ]
  },
  {
   "cell_type": "code",
   "execution_count": 14,
   "id": "fc8615be",
   "metadata": {
    "execution": {
     "iopub.execute_input": "2022-04-21T16:34:03.642824Z",
     "iopub.status.busy": "2022-04-21T16:34:03.642205Z",
     "iopub.status.idle": "2022-04-21T16:34:03.653711Z",
     "shell.execute_reply": "2022-04-21T16:34:03.654204Z",
     "shell.execute_reply.started": "2022-04-21T14:48:37.743760Z"
    },
    "papermill": {
     "duration": 0.048124,
     "end_time": "2022-04-21T16:34:03.654380",
     "exception": false,
     "start_time": "2022-04-21T16:34:03.606256",
     "status": "completed"
    },
    "tags": []
   },
   "outputs": [],
   "source": [
    "# One Hot encoding\n",
    "heart = pd.get_dummies(heart,columns=[\"ChestPainType\"])\n",
    "\n",
    "# encoding sex\n",
    "newSex = {\n",
    "    \"M\":0,\n",
    "    \"F\":1\n",
    "}\n",
    "\n",
    "heart[\"Sex\"] = heart[\"Sex\"].map(lambda x: newSex[x])"
   ]
  },
  {
   "cell_type": "code",
   "execution_count": 15,
   "id": "34c084e3",
   "metadata": {
    "execution": {
     "iopub.execute_input": "2022-04-21T16:34:03.726245Z",
     "iopub.status.busy": "2022-04-21T16:34:03.725586Z",
     "iopub.status.idle": "2022-04-21T16:34:03.882233Z",
     "shell.execute_reply": "2022-04-21T16:34:03.881691Z",
     "shell.execute_reply.started": "2022-04-21T14:48:37.759454Z"
    },
    "papermill": {
     "duration": 0.194151,
     "end_time": "2022-04-21T16:34:03.882386",
     "exception": false,
     "start_time": "2022-04-21T16:34:03.688235",
     "status": "completed"
    },
    "tags": []
   },
   "outputs": [],
   "source": [
    "from sklearn.model_selection import train_test_split"
   ]
  },
  {
   "cell_type": "code",
   "execution_count": 16,
   "id": "139b0e1e",
   "metadata": {
    "execution": {
     "iopub.execute_input": "2022-04-21T16:34:03.955845Z",
     "iopub.status.busy": "2022-04-21T16:34:03.955161Z",
     "iopub.status.idle": "2022-04-21T16:34:03.960273Z",
     "shell.execute_reply": "2022-04-21T16:34:03.960756Z",
     "shell.execute_reply.started": "2022-04-21T14:48:37.765446Z"
    },
    "papermill": {
     "duration": 0.044233,
     "end_time": "2022-04-21T16:34:03.960925",
     "exception": false,
     "start_time": "2022-04-21T16:34:03.916692",
     "status": "completed"
    },
    "tags": []
   },
   "outputs": [],
   "source": [
    "features = [\"Age\",\"MaxHR\",\"ChestPainType_ASY\",\"ChestPainType_ATA\",\"ChestPainType_NAP\",\"ChestPainType_TA\"]\n",
    "X = heart[features]\n",
    "y=heart[\"HeartDisease\"]\n",
    "\n",
    "train_X, val_X, train_y, val_y = train_test_split(X,y)"
   ]
  },
  {
   "cell_type": "code",
   "execution_count": 17,
   "id": "f12bcfc9",
   "metadata": {
    "execution": {
     "iopub.execute_input": "2022-04-21T16:34:04.032403Z",
     "iopub.status.busy": "2022-04-21T16:34:04.029898Z",
     "iopub.status.idle": "2022-04-21T16:34:04.050679Z",
     "shell.execute_reply": "2022-04-21T16:34:04.051285Z",
     "shell.execute_reply.started": "2022-04-21T14:48:37.785310Z"
    },
    "papermill": {
     "duration": 0.057106,
     "end_time": "2022-04-21T16:34:04.051455",
     "exception": false,
     "start_time": "2022-04-21T16:34:03.994349",
     "status": "completed"
    },
    "tags": []
   },
   "outputs": [
    {
     "data": {
      "text/html": [
       "<div>\n",
       "<style scoped>\n",
       "    .dataframe tbody tr th:only-of-type {\n",
       "        vertical-align: middle;\n",
       "    }\n",
       "\n",
       "    .dataframe tbody tr th {\n",
       "        vertical-align: top;\n",
       "    }\n",
       "\n",
       "    .dataframe thead th {\n",
       "        text-align: right;\n",
       "    }\n",
       "</style>\n",
       "<table border=\"1\" class=\"dataframe\">\n",
       "  <thead>\n",
       "    <tr style=\"text-align: right;\">\n",
       "      <th></th>\n",
       "      <th>Age</th>\n",
       "      <th>Sex</th>\n",
       "      <th>RestingBP</th>\n",
       "      <th>Cholesterol</th>\n",
       "      <th>FastingBS</th>\n",
       "      <th>RestingECG</th>\n",
       "      <th>MaxHR</th>\n",
       "      <th>ExerciseAngina</th>\n",
       "      <th>Oldpeak</th>\n",
       "      <th>ST_Slope</th>\n",
       "      <th>HeartDisease</th>\n",
       "      <th>ChestPainType_ASY</th>\n",
       "      <th>ChestPainType_ATA</th>\n",
       "      <th>ChestPainType_NAP</th>\n",
       "      <th>ChestPainType_TA</th>\n",
       "    </tr>\n",
       "  </thead>\n",
       "  <tbody>\n",
       "    <tr>\n",
       "      <th>0</th>\n",
       "      <td>40</td>\n",
       "      <td>0</td>\n",
       "      <td>140.0</td>\n",
       "      <td>289.0</td>\n",
       "      <td>0</td>\n",
       "      <td>Normal</td>\n",
       "      <td>172</td>\n",
       "      <td>N</td>\n",
       "      <td>0.0</td>\n",
       "      <td>Up</td>\n",
       "      <td>0</td>\n",
       "      <td>0</td>\n",
       "      <td>1</td>\n",
       "      <td>0</td>\n",
       "      <td>0</td>\n",
       "    </tr>\n",
       "    <tr>\n",
       "      <th>1</th>\n",
       "      <td>49</td>\n",
       "      <td>1</td>\n",
       "      <td>160.0</td>\n",
       "      <td>180.0</td>\n",
       "      <td>0</td>\n",
       "      <td>Normal</td>\n",
       "      <td>156</td>\n",
       "      <td>N</td>\n",
       "      <td>1.0</td>\n",
       "      <td>Flat</td>\n",
       "      <td>1</td>\n",
       "      <td>0</td>\n",
       "      <td>0</td>\n",
       "      <td>1</td>\n",
       "      <td>0</td>\n",
       "    </tr>\n",
       "    <tr>\n",
       "      <th>2</th>\n",
       "      <td>37</td>\n",
       "      <td>0</td>\n",
       "      <td>130.0</td>\n",
       "      <td>283.0</td>\n",
       "      <td>0</td>\n",
       "      <td>ST</td>\n",
       "      <td>98</td>\n",
       "      <td>N</td>\n",
       "      <td>0.0</td>\n",
       "      <td>Up</td>\n",
       "      <td>0</td>\n",
       "      <td>0</td>\n",
       "      <td>1</td>\n",
       "      <td>0</td>\n",
       "      <td>0</td>\n",
       "    </tr>\n",
       "    <tr>\n",
       "      <th>3</th>\n",
       "      <td>48</td>\n",
       "      <td>1</td>\n",
       "      <td>138.0</td>\n",
       "      <td>214.0</td>\n",
       "      <td>0</td>\n",
       "      <td>Normal</td>\n",
       "      <td>108</td>\n",
       "      <td>Y</td>\n",
       "      <td>1.5</td>\n",
       "      <td>Flat</td>\n",
       "      <td>1</td>\n",
       "      <td>1</td>\n",
       "      <td>0</td>\n",
       "      <td>0</td>\n",
       "      <td>0</td>\n",
       "    </tr>\n",
       "    <tr>\n",
       "      <th>4</th>\n",
       "      <td>54</td>\n",
       "      <td>0</td>\n",
       "      <td>150.0</td>\n",
       "      <td>195.0</td>\n",
       "      <td>0</td>\n",
       "      <td>Normal</td>\n",
       "      <td>122</td>\n",
       "      <td>N</td>\n",
       "      <td>0.0</td>\n",
       "      <td>Up</td>\n",
       "      <td>0</td>\n",
       "      <td>0</td>\n",
       "      <td>0</td>\n",
       "      <td>1</td>\n",
       "      <td>0</td>\n",
       "    </tr>\n",
       "  </tbody>\n",
       "</table>\n",
       "</div>"
      ],
      "text/plain": [
       "   Age  Sex  RestingBP  Cholesterol  FastingBS RestingECG  MaxHR  \\\n",
       "0   40    0      140.0        289.0          0     Normal    172   \n",
       "1   49    1      160.0        180.0          0     Normal    156   \n",
       "2   37    0      130.0        283.0          0         ST     98   \n",
       "3   48    1      138.0        214.0          0     Normal    108   \n",
       "4   54    0      150.0        195.0          0     Normal    122   \n",
       "\n",
       "  ExerciseAngina  Oldpeak ST_Slope  HeartDisease  ChestPainType_ASY  \\\n",
       "0              N      0.0       Up             0                  0   \n",
       "1              N      1.0     Flat             1                  0   \n",
       "2              N      0.0       Up             0                  0   \n",
       "3              Y      1.5     Flat             1                  1   \n",
       "4              N      0.0       Up             0                  0   \n",
       "\n",
       "   ChestPainType_ATA  ChestPainType_NAP  ChestPainType_TA  \n",
       "0                  1                  0                 0  \n",
       "1                  0                  1                 0  \n",
       "2                  1                  0                 0  \n",
       "3                  0                  0                 0  \n",
       "4                  0                  1                 0  "
      ]
     },
     "execution_count": 17,
     "metadata": {},
     "output_type": "execute_result"
    }
   ],
   "source": [
    "heart.head()"
   ]
  },
  {
   "cell_type": "markdown",
   "id": "4680935b",
   "metadata": {
    "papermill": {
     "duration": 0.033439,
     "end_time": "2022-04-21T16:34:04.118390",
     "exception": false,
     "start_time": "2022-04-21T16:34:04.084951",
     "status": "completed"
    },
    "tags": []
   },
   "source": [
    "# Model Creation"
   ]
  },
  {
   "cell_type": "code",
   "execution_count": 18,
   "id": "1c1ad8b0",
   "metadata": {
    "execution": {
     "iopub.execute_input": "2022-04-21T16:34:04.190720Z",
     "iopub.status.busy": "2022-04-21T16:34:04.189941Z",
     "iopub.status.idle": "2022-04-21T16:34:04.331068Z",
     "shell.execute_reply": "2022-04-21T16:34:04.330421Z",
     "shell.execute_reply.started": "2022-04-21T14:48:37.813370Z"
    },
    "papermill": {
     "duration": 0.179373,
     "end_time": "2022-04-21T16:34:04.331231",
     "exception": false,
     "start_time": "2022-04-21T16:34:04.151858",
     "status": "completed"
    },
    "tags": []
   },
   "outputs": [],
   "source": [
    "from sklearn.neighbors import KNeighborsClassifier\n",
    "\n",
    "neigh = KNeighborsClassifier()\n",
    "\n",
    "neigh.fit(train_X,train_y)\n",
    "\n",
    "pred_y = neigh.predict(val_X)"
   ]
  },
  {
   "cell_type": "code",
   "execution_count": 19,
   "id": "0a754c9e",
   "metadata": {
    "execution": {
     "iopub.execute_input": "2022-04-21T16:34:04.402436Z",
     "iopub.status.busy": "2022-04-21T16:34:04.401421Z",
     "iopub.status.idle": "2022-04-21T16:34:04.408602Z",
     "shell.execute_reply": "2022-04-21T16:34:04.408032Z",
     "shell.execute_reply.started": "2022-04-21T15:48:56.360074Z"
    },
    "papermill": {
     "duration": 0.043959,
     "end_time": "2022-04-21T16:34:04.408745",
     "exception": false,
     "start_time": "2022-04-21T16:34:04.364786",
     "status": "completed"
    },
    "tags": []
   },
   "outputs": [
    {
     "name": "stdout",
     "output_type": "stream",
     "text": [
      "Percent Right: 67.3913043478261\n",
      "Always False: 45.65217391304348\n"
     ]
    }
   ],
   "source": [
    "# right xx % of the time\n",
    "percentRight = np.mean(pred_y == val_y) * 100\n",
    "\n",
    "\n",
    "# evaluatin of a classifier that would only produce \"no\"\n",
    "naive = np.mean(val_y == 0) * 100\n",
    "\n",
    "print(\"Percent Right:\", percentRight)\n",
    "print(\"Always False:\", naive)"
   ]
  }
 ],
 "metadata": {
  "kernelspec": {
   "display_name": "Python 3 (ipykernel)",
   "language": "python",
   "name": "python3"
  },
  "language_info": {
   "codemirror_mode": {
    "name": "ipython",
    "version": 3
   },
   "file_extension": ".py",
   "mimetype": "text/x-python",
   "name": "python",
   "nbconvert_exporter": "python",
   "pygments_lexer": "ipython3",
   "version": "3.9.7"
  },
  "papermill": {
   "default_parameters": {},
   "duration": 18.56497,
   "end_time": "2022-04-21T16:34:05.295864",
   "environment_variables": {},
   "exception": null,
   "input_path": "__notebook__.ipynb",
   "output_path": "__notebook__.ipynb",
   "parameters": {},
   "start_time": "2022-04-21T16:33:46.730894",
   "version": "2.3.3"
  }
 },
 "nbformat": 4,
 "nbformat_minor": 5
}
